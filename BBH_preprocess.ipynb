{
 "cells": [
  {
   "cell_type": "code",
   "execution_count": null,
   "id": "initial_id",
   "metadata": {
    "collapsed": true
   },
   "outputs": [],
   "source": [
    "import json\n",
    "import os\n",
    "\n",
    "from until import load_rules, apply_rule \n",
    "\n",
    "\n",
    "source_dir = \"BIG-Bench-Hard-main/bbh\"\n",
    "target_dir = \"BBH_preprocess/BBHI\"\n",
    "rules_file = \"BBH_preprocess/remove_prefix_suffix.txt\"\n",
    "\n",
    "rules = load_rules(rules_file)\n",
    "\n",
    "if not os.path.exists(target_dir):\n",
    "    os.makedirs(target_dir)\n",
    "\n",
    "for file in os.listdir(source_dir):\n",
    "    if file.endswith(\".json\"):\n",
    "        print(file)\n",
    "        rule = rules.get(file, None)\n",
    "        if rule:\n",
    "            print(rule)\n",
    "            with open(os.path.join(source_dir, file), 'r', encoding='utf-8') as f:\n",
    "                data = json.load(f)\n",
    "\n",
    "            if \"examples\" in data:\n",
    "                for example in data[\"examples\"]:\n",
    "                    example[\"input\"] = apply_rule(example[\"input\"], rule)\n",
    "\n",
    "            file_subdir = os.path.join(target_dir, os.path.splitext(file)[0])\n",
    "            if not os.path.exists(file_subdir):\n",
    "                os.makedirs(file_subdir)\n",
    "\n",
    "            new_file_path = os.path.join(file_subdir, file)\n",
    "            with open(new_file_path, 'w', encoding='utf-8') as f:\n",
    "                json.dump(data, f, ensure_ascii=False, indent=2)                \n",
    "                \n"
   ]
  },
  {
   "cell_type": "code",
   "outputs": [],
   "source": [],
   "metadata": {
    "collapsed": false
   },
   "id": "c9723ccbbdcd483",
   "execution_count": null
  },
  {
   "cell_type": "code",
   "outputs": [],
   "source": [],
   "metadata": {
    "collapsed": false
   },
   "id": "ca39371f54bc78e5",
   "execution_count": null
  }
 ],
 "metadata": {
  "kernelspec": {
   "display_name": "Python 3",
   "language": "python",
   "name": "python3"
  },
  "language_info": {
   "codemirror_mode": {
    "name": "ipython",
    "version": 2
   },
   "file_extension": ".py",
   "mimetype": "text/x-python",
   "name": "python",
   "nbconvert_exporter": "python",
   "pygments_lexer": "ipython2",
   "version": "2.7.6"
  }
 },
 "nbformat": 4,
 "nbformat_minor": 5
}
